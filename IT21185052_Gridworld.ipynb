{
  "cells": [
    {
      "cell_type": "markdown",
      "metadata": {
        "id": "5T39DhiVsbZ3"
      },
      "source": [
        "# The agent-environment interaction\n",
        "\n",
        "In this exercise, you will implement the interaction of a reinforecment learning agent with its environment. We will use the gridworld environment from the second lecture. You will find a description of the environment below, along with two pieces of relevant material from the lectures: the agent-environment interface and the Q-learning algorithm.\n",
        "\n",
        "1. Create an agent that chooses actions randomly with this environment.\n",
        "\n",
        "2. Create an agent that uses Q-learning. You can use initial Q values of 0, a stochasticity parameter for the $\\epsilon$-greedy policy function $\\epsilon=0.05$, and a learning rate $\\alpha = 0.1$. But feel free to experiment with other settings of these three parameters.\n",
        "\n",
        "3. Plot the mean total reward obtained by the two agents through the episodes. This is called a **learning curve**. Run enough episodes for the Q-learning agent to converge to a near-optimal policy.\n"
      ]
    },
    {
      "cell_type": "markdown",
      "metadata": {
        "id": "uC0zUCDQsbZ4"
      },
      "source": [
        "## The agent-environment interface\n",
        "\n",
        "<img src=\"img/agent-environment.png\" style=\"width: 500px;\" align=\"left\"/>\n",
        "\n",
        "<br><br><br>\n",
        "\n",
        "The interaction of the agent with its environments starts at decision stage $t=0$ with the observation of the current state $s_0$. (Notice that there is no reward at this initial stage.) The agent then chooses an action to execute at decision stage $t=1$. The environment responds by changing its state to $s_1$ and returning the numerical reward signal $r_1$.\n"
      ]
    },
    {
      "cell_type": "markdown",
      "metadata": {
        "id": "iudeiBc5sbZ5"
      },
      "source": [
        "## The environment: Navigation in a gridworld\n",
        "\n",
        "<img src=\"img/gold.png\" style=\"width: 250px;\" align=\"left\"/>\n",
        "\n",
        "The agent has four possible actions in each state (grid square): west, north, south, and east. The actions are unreliable. They move the agent in the intended direction with probability 0.8, and with probability 0.2, they move the agent in a random other direction. It the direction of movement is blocked, the agent remains in the same grid square. The initial state of the agent is one of the five grid squares at the bottom, selected randomly. The grid squares with the gold and the bomb are **terminal states**. If the agent finds itself in one of these squares, the episode ends. Then a new episode begins with the agent at the initial state.\n",
        "\n",
        "You will use a reinforcement learning algorithm to compute the best policy for finding the gold with as few steps as possible while avoiding the bomb. For this, we will use the following reward function: $-1$ for each navigation action, an additional $+10$ for finding the gold, and an additional $-10$ for hitting the bomb. For example, the immediate reward for transitioning into the square with the gold is $-1 + 10 = +9$. Do not use discounting (that is, set $\\gamma=1$)."
      ]
    },
    {
      "cell_type": "markdown",
      "metadata": {
        "id": "j5OF4UyZsbZ5"
      },
      "source": [
        "## Q-learning\n",
        "\n",
        "![title](img/q.png)\n",
        "From Sutton & Barto (1998), Reinforcement Learning."
      ]
    },
    {
      "cell_type": "code",
      "execution_count": 2,
      "metadata": {
        "id": "GkNv7RHTsbZ5"
      },
      "outputs": [],
      "source": [
        "import numpy as np\n",
        "import operator\n",
        "import matplotlib.pyplot as plt\n",
        "%matplotlib inline"
      ]
    },
    {
      "cell_type": "markdown",
      "metadata": {
        "id": "Z1fIv3c0sbZ6"
      },
      "source": [
        "# Classes for the Enviroment and the Agent"
      ]
    },
    {
      "cell_type": "markdown",
      "metadata": {
        "id": "rBrfPTW_sbZ6"
      },
      "source": [
        "- The GridWorld class contains the environment\n",
        "- The dimensions of the environment are defined\n",
        "- Locations of all rewards are stored\n",
        "- Functions for different methods written\n",
        "    - `get_available_actions` returns possible actions\n",
        "    - `agent_on_map` prints out current location of the agent on the grid (used for debugging)\n",
        "    - `get_reward` returns the reward for an input position\n",
        "    - `make_step` moves the agent in a specified direction"
      ]
    },
    {
      "cell_type": "code",
      "execution_count": 1,
      "metadata": {
        "id": "VXec19-AsbZ7"
      },
      "outputs": [],
      "source": [
        "class GridWorld:\n",
        "    ## Initialise starting data\n",
        "    def __init__(self):\n",
        "        # Set information about the gridworld\n",
        "        self.height = 5\n",
        "        self.width = 5\n",
        "        self.grid = np.zeros(( self.height, self.width)) - 1\n",
        "\n",
        "        # Set random start location for the agent\n",
        "        self.current_location = ( 4, np.random.randint(0,5))\n",
        "\n",
        "        # Set locations for the bomb and the gold\n",
        "        self.bomb_location = (1,3)\n",
        "        self.gold_location = (0,3)\n",
        "        self.terminal_states = [ self.bomb_location, self.gold_location]\n",
        "\n",
        "        # Set grid rewards for special cells\n",
        "        self.grid[ self.bomb_location[0], self.bomb_location[1]] = -10\n",
        "        self.grid[ self.gold_location[0], self.gold_location[1]] = 10\n",
        "\n",
        "        # Set available actions\n",
        "        self.actions = ['UP', 'DOWN', 'LEFT', 'RIGHT']\n",
        "\n",
        "\n",
        "    ## Put methods here:\n",
        "    def get_available_actions(self):\n",
        "        \"\"\"Returns possible actions\"\"\"\n",
        "        return self.actions\n",
        "\n",
        "    def agent_on_map(self):\n",
        "        \"\"\"Prints out current location of the agent on the grid (used for debugging)\"\"\"\n",
        "        grid = np.zeros(( self.height, self.width))\n",
        "        grid[ self.current_location[0], self.current_location[1]] = 1\n",
        "        return grid\n",
        "\n",
        "    def get_reward(self, new_location):\n",
        "        \"\"\"Returns the reward for an input position\"\"\"\n",
        "        return self.grid[ new_location[0], new_location[1]]\n",
        "\n",
        "\n",
        "    def make_step(self, action):\n",
        "        \"\"\"Moves the agent in the specified direction. If agent is at a border, agent stays still\n",
        "        but takes negative reward. Function returns the reward for the move.\"\"\"\n",
        "        # Store previous location\n",
        "        last_location = self.current_location\n",
        "\n",
        "        # UP\n",
        "        if action == 'UP':\n",
        "            # If agent is at the top, stay still, collect reward\n",
        "            if last_location[0] == 0:\n",
        "                reward = self.get_reward(last_location)\n",
        "            else:\n",
        "                self.current_location = ( self.current_location[0] - 1, self.current_location[1])\n",
        "                reward = self.get_reward(self.current_location)\n",
        "\n",
        "        # DOWN\n",
        "        elif action == 'DOWN':\n",
        "            # If agent is at bottom, stay still, collect reward\n",
        "            if last_location[0] == self.height - 1:\n",
        "                reward = self.get_reward(last_location)\n",
        "            else:\n",
        "                self.current_location = ( self.current_location[0] + 1, self.current_location[1])\n",
        "                reward = self.get_reward(self.current_location)\n",
        "\n",
        "        # LEFT\n",
        "        elif action == 'LEFT':\n",
        "            # If agent is at the left, stay still, collect reward\n",
        "            if last_location[1] == 0:\n",
        "                reward = self.get_reward(last_location)\n",
        "            else:\n",
        "                self.current_location = ( self.current_location[0], self.current_location[1] - 1)\n",
        "                reward = self.get_reward(self.current_location)\n",
        "\n",
        "        # RIGHT\n",
        "        elif action == 'RIGHT':\n",
        "            # If agent is at the right, stay still, collect reward\n",
        "            if last_location[1] == self.width - 1:\n",
        "                reward = self.get_reward(last_location)\n",
        "            else:\n",
        "                self.current_location = ( self.current_location[0], self.current_location[1] + 1)\n",
        "                reward = self.get_reward(self.current_location)\n",
        "\n",
        "        return reward\n",
        "\n",
        "    def check_state(self):\n",
        "        \"\"\"Check if the agent is in a terminal state (gold or bomb), if so return 'TERMINAL'\"\"\"\n",
        "        if self.current_location in self.terminal_states:\n",
        "            return 'TERMINAL'"
      ]
    },
    {
      "cell_type": "code",
      "execution_count": 3,
      "metadata": {
        "id": "Uay9sG5psbZ7"
      },
      "outputs": [],
      "source": [
        "class RandomAgent():\n",
        "    # Choose a random action\n",
        "    def choose_action(self, available_actions):\n",
        "        \"\"\"Returns a random choice of the available actions\"\"\"\n",
        "        return np.random.choice(available_actions)"
      ]
    },
    {
      "cell_type": "code",
      "execution_count": 4,
      "metadata": {
        "id": "fMo5IuBEsbZ7"
      },
      "outputs": [],
      "source": [
        "class Q_Agent():\n",
        "    # Intialise\n",
        "    def __init__(self, environment, epsilon=0.05, alpha=0.1, gamma=1):\n",
        "        self.environment = environment\n",
        "        self.q_table = dict() # Store all Q-values in dictionary of dictionaries\n",
        "        for x in range(environment.height): # Loop through all possible grid spaces, create sub-dictionary for each\n",
        "            for y in range(environment.width):\n",
        "                self.q_table[(x,y)] = {'UP':0, 'DOWN':0, 'LEFT':0, 'RIGHT':0} # Populate sub-dictionary with zero values for possible moves\n",
        "\n",
        "        self.epsilon = epsilon\n",
        "        self.alpha = alpha\n",
        "        self.gamma = gamma\n",
        "\n",
        "    def choose_action(self, available_actions):\n",
        "        \"\"\"Returns the optimal action from Q-Value table. If multiple optimal actions, chooses random choice.\n",
        "        Will make an exploratory random action dependent on epsilon.\"\"\"\n",
        "        if np.random.uniform(0,1) < self.epsilon:\n",
        "            action = available_actions[np.random.randint(0, len(available_actions))]\n",
        "        else:\n",
        "            q_values_of_state = self.q_table[self.environment.current_location]\n",
        "            maxValue = max(q_values_of_state.values())\n",
        "            action = np.random.choice([k for k, v in q_values_of_state.items() if v == maxValue])\n",
        "\n",
        "        return action\n",
        "\n",
        "    def learn(self, old_state, reward, new_state, action):\n",
        "        \"\"\"Updates the Q-value table using Q-learning\"\"\"\n",
        "        q_values_of_state = self.q_table[new_state]\n",
        "        max_q_value_in_new_state = max(q_values_of_state.values())\n",
        "        current_q_value = self.q_table[old_state][action]\n",
        "\n",
        "        self.q_table[old_state][action] = (1 - self.alpha) * current_q_value + self.alpha * (reward + self.gamma * max_q_value_in_new_state)\n",
        "\n",
        ""
      ]
    },
    {
      "cell_type": "code",
      "execution_count": 5,
      "metadata": {
        "id": "OhY7QukdsbZ7"
      },
      "outputs": [],
      "source": [
        "def play(environment, agent, trials=500, max_steps_per_episode=1000, learn=False):\n",
        "    \"\"\"The play function runs iterations and updates Q-values if desired.\"\"\"\n",
        "    reward_per_episode = [] # Initialise performance log\n",
        "\n",
        "    for trial in range(trials): # Run trials\n",
        "        cumulative_reward = 0 # Initialise values of each game\n",
        "        step = 0\n",
        "        game_over = False\n",
        "        while step < max_steps_per_episode and game_over != True: # Run until max steps or until game is finished\n",
        "            old_state = environment.current_location\n",
        "            action = agent.choose_action(environment.actions)\n",
        "            reward = environment.make_step(action)\n",
        "            new_state = environment.current_location\n",
        "\n",
        "            if learn == True: # Update Q-values if learning is specified\n",
        "                agent.learn(old_state, reward, new_state, action)\n",
        "\n",
        "            cumulative_reward += reward\n",
        "            step += 1\n",
        "\n",
        "            if environment.check_state() == 'TERMINAL': # If game is in terminal state, game over and start next trial\n",
        "                environment.__init__()\n",
        "                game_over = True\n",
        "\n",
        "        reward_per_episode.append(cumulative_reward) # Append reward for current trial to performance log\n",
        "\n",
        "    return reward_per_episode # Return performance log"
      ]
    },
    {
      "cell_type": "markdown",
      "metadata": {
        "id": "NmedroWlsbZ7"
      },
      "source": [
        "## Run Random Agent\n",
        "\n",
        "- Random agent moves randomly and does not learn from it's actions.\n",
        "- This gives a base performance to compare the Q-Learning agent to"
      ]
    },
    {
      "cell_type": "code",
      "execution_count": 6,
      "metadata": {
        "colab": {
          "base_uri": "https://localhost:8080/"
        },
        "id": "3ZPPZjREsbZ7",
        "outputId": "f35d6612-0b5e-4852-d405-f56cbba72ee2"
      },
      "outputs": [
        {
          "output_type": "stream",
          "name": "stdout",
          "text": [
            "Current position of the agent = (4, 2)\n",
            "[[0. 0. 0. 0. 0.]\n",
            " [0. 0. 0. 0. 0.]\n",
            " [0. 0. 0. 0. 0.]\n",
            " [0. 0. 0. 0. 0.]\n",
            " [0. 0. 1. 0. 0.]]\n",
            "Available_actions = ['UP', 'DOWN', 'LEFT', 'RIGHT']\n",
            "Randomly chosen action = RIGHT\n",
            "Reward obtained = -1.0\n",
            "Current position of the agent = (4, 3)\n",
            "[[0. 0. 0. 0. 0.]\n",
            " [0. 0. 0. 0. 0.]\n",
            " [0. 0. 0. 0. 0.]\n",
            " [0. 0. 0. 0. 0.]\n",
            " [0. 0. 0. 1. 0.]]\n"
          ]
        }
      ],
      "source": [
        "env = GridWorld()\n",
        "agent = RandomAgent()\n",
        "\n",
        "print(\"Current position of the agent =\", env.current_location)\n",
        "print(env.agent_on_map())\n",
        "available_actions = env.get_available_actions()\n",
        "print(\"Available_actions =\", available_actions)\n",
        "chosen_action = agent.choose_action(available_actions)\n",
        "print(\"Randomly chosen action =\", chosen_action)\n",
        "reward = env.make_step(chosen_action)\n",
        "print(\"Reward obtained =\", reward)\n",
        "print(\"Current position of the agent =\", env.current_location)\n",
        "print(env.agent_on_map())"
      ]
    },
    {
      "cell_type": "markdown",
      "metadata": {
        "id": "MNeKF7OksbZ8"
      },
      "source": [
        "- Here the random agent is ran for 500 trials\n",
        "- Performance is obviously inconsistent and not optimal"
      ]
    },
    {
      "cell_type": "code",
      "execution_count": 7,
      "metadata": {
        "colab": {
          "base_uri": "https://localhost:8080/",
          "height": 447
        },
        "id": "-feiCjK0sbZ8",
        "outputId": "0ca36c8c-afa1-41e1-a61a-acab368c8581"
      },
      "outputs": [
        {
          "output_type": "execute_result",
          "data": {
            "text/plain": [
              "[<matplotlib.lines.Line2D at 0x7e920e227010>]"
            ]
          },
          "metadata": {},
          "execution_count": 7
        },
        {
          "output_type": "display_data",
          "data": {
            "text/plain": [
              "<Figure size 640x480 with 1 Axes>"
            ],
            "image/png": "[encoded data removed]"
          },
          "metadata": {}
        }
      ],
      "source": [
        "# Initialize environment and agent\n",
        "environment = GridWorld()\n",
        "random_agent = RandomAgent()\n",
        "\n",
        "reward_per_episode = play(environment, random_agent, trials=500)\n",
        "\n",
        "# Simple learning curve\n",
        "plt.plot(reward_per_episode)"
      ]
    },
    {
      "cell_type": "markdown",
      "metadata": {
        "id": "D-CyINHOsbZ8"
      },
      "source": [
        "## Q-Agent\n",
        "\n",
        "- Here the Q-Learning agent is ran for 500 trials again\n",
        "- Performance is plotted\n",
        "- Performance increases greatly"
      ]
    },
    {
      "cell_type": "code",
      "execution_count": 8,
      "metadata": {
        "colab": {
          "base_uri": "https://localhost:8080/",
          "height": 447
        },
        "id": "4vK3JmsfsbZ8",
        "outputId": "ee5616fd-f619-4ebc-ce6f-a6faebd81544"
      },
      "outputs": [
        {
          "output_type": "execute_result",
          "data": {
            "text/plain": [
              "[<matplotlib.lines.Line2D at 0x7e920c1aea70>]"
            ]
          },
          "metadata": {},
          "execution_count": 8
        },
        {
          "output_type": "display_data",
          "data": {
            "text/plain": [
              "<Figure size 640x480 with 1 Axes>"
            ],
            "image/png": "[encoded data removed]"
          },
          "metadata": {}
        }
      ],
      "source": [
        "environment = GridWorld()\n",
        "agentQ = Q_Agent(environment)\n",
        "\n",
        "# Note the learn=True argument!\n",
        "reward_per_episode = play(environment, agentQ, trials=500, learn=True)\n",
        "\n",
        "# Simple learning curve\n",
        "plt.plot(reward_per_episode)"
      ]
    },
    {
      "cell_type": "markdown",
      "metadata": {
        "id": "mSwXFRp8sbZ8"
      },
      "source": [
        "Print the final Q-value table with nice formatting."
      ]
    },
    {
      "cell_type": "code",
      "execution_count": 9,
      "metadata": {
        "colab": {
          "base_uri": "https://localhost:8080/"
        },
        "id": "3QZty1_YsbZ8",
        "outputId": "51fe557e-e02c-4bad-bb9d-76b36757b365"
      },
      "outputs": [
        {
          "output_type": "stream",
          "name": "stdout",
          "text": [
            "(0, 0)\n",
            "\tUP\n",
            "\t\t-0.30000000000000004\n",
            "\tDOWN\n",
            "\t\t-0.30992000000000003\n",
            "\tLEFT\n",
            "\t\t-0.29000000000000004\n",
            "\tRIGHT\n",
            "\t\t-0.26869789000000005\n",
            "(0, 1)\n",
            "\tUP\n",
            "\t\t-0.04604056650499321\n",
            "\tDOWN\n",
            "\t\t-0.30810000000000004\n",
            "\tLEFT\n",
            "\t\t-0.1\n",
            "\tRIGHT\n",
            "\t\t5.745398622402841\n",
            "(0, 2)\n",
            "\tUP\n",
            "\t\t2.3635503237972135\n",
            "\tDOWN\n",
            "\t\t4.511907432896784\n",
            "\tLEFT\n",
            "\t\t1.6202471792338204\n",
            "\tRIGHT\n",
            "\t\t9.999999999999995\n",
            "(0, 3)\n",
            "\tUP\n",
            "\t\t0\n",
            "\tDOWN\n",
            "\t\t0\n",
            "\tLEFT\n",
            "\t\t0\n",
            "\tRIGHT\n",
            "\t\t0\n",
            "(0, 4)\n",
            "\tUP\n",
            "\t\t0\n",
            "\tDOWN\n",
            "\t\t-0.11000000000000001\n",
            "\tLEFT\n",
            "\t\t7.94108867905351\n",
            "\tRIGHT\n",
            "\t\t0\n",
            "(1, 0)\n",
            "\tUP\n",
            "\t\t-0.5342249000000001\n",
            "\tDOWN\n",
            "\t\t-0.6581639475390001\n",
            "\tLEFT\n",
            "\t\t-0.5000000000000001\n",
            "\tRIGHT\n",
            "\t\t-0.49000900000000014\n",
            "(1, 1)\n",
            "\tUP\n",
            "\t\t-0.3691000000000001\n",
            "\tDOWN\n",
            "\t\t-0.42933670000000007\n",
            "\tLEFT\n",
            "\t\t-0.4000000000000001\n",
            "\tRIGHT\n",
            "\t\t2.792570352373191\n",
            "(1, 2)\n",
            "\tUP\n",
            "\t\t8.999999999999982\n",
            "\tDOWN\n",
            "\t\t2.230530337801117\n",
            "\tLEFT\n",
            "\t\t-0.03830848725745861\n",
            "\tRIGHT\n",
            "\t\t-5.217031\n",
            "(1, 3)\n",
            "\tUP\n",
            "\t\t0\n",
            "\tDOWN\n",
            "\t\t0\n",
            "\tLEFT\n",
            "\t\t0\n",
            "\tRIGHT\n",
            "\t\t0\n",
            "(1, 4)\n",
            "\tUP\n",
            "\t\t3.694871829694545\n",
            "\tDOWN\n",
            "\t\t-0.22900000000000004\n",
            "\tLEFT\n",
            "\t\t-1.0\n",
            "\tRIGHT\n",
            "\t\t-0.15436268109999998\n",
            "(2, 0)\n",
            "\tUP\n",
            "\t\t-0.8545563031000002\n",
            "\tDOWN\n",
            "\t\t-0.8800919717710003\n",
            "\tLEFT\n",
            "\t\t-0.8953171000000001\n",
            "\tRIGHT\n",
            "\t\t-0.8698219998758452\n",
            "(2, 1)\n",
            "\tUP\n",
            "\t\t-0.6942525695030002\n",
            "\tDOWN\n",
            "\t\t-0.7973234381080001\n",
            "\tLEFT\n",
            "\t\t-0.7028894185100001\n",
            "\tRIGHT\n",
            "\t\t4.586480635585006\n",
            "(2, 2)\n",
            "\tUP\n",
            "\t\t7.999999999999978\n",
            "\tDOWN\n",
            "\t\t3.3986528394094666\n",
            "\tLEFT\n",
            "\t\t0.7060392207992652\n",
            "\tRIGHT\n",
            "\t\t-0.14369936773325495\n",
            "(2, 3)\n",
            "\tUP\n",
            "\t\t-1.0\n",
            "\tDOWN\n",
            "\t\t-0.78033526544\n",
            "\tLEFT\n",
            "\t\t3.0550511291296414\n",
            "\tRIGHT\n",
            "\t\t-0.76098211\n",
            "(2, 4)\n",
            "\tUP\n",
            "\t\t0.5052043886729823\n",
            "\tDOWN\n",
            "\t\t-0.6625565513000001\n",
            "\tLEFT\n",
            "\t\t-0.7110445588974932\n",
            "\tRIGHT\n",
            "\t\t-0.7830908822810002\n",
            "(3, 0)\n",
            "\tUP\n",
            "\t\t-1.2448473109882092\n",
            "\tDOWN\n",
            "\t\t-1.2335664645396414\n",
            "\tLEFT\n",
            "\t\t-1.2000000000000006\n",
            "\tRIGHT\n",
            "\t\t0.32205102593217455\n",
            "(3, 1)\n",
            "\tUP\n",
            "\t\t-0.40847741417513284\n",
            "\tDOWN\n",
            "\t\t-0.11651451616279707\n",
            "\tLEFT\n",
            "\t\t-1.094196061203911\n",
            "\tRIGHT\n",
            "\t\t5.999999905895691\n",
            "(3, 2)\n",
            "\tUP\n",
            "\t\t6.9999999999999725\n",
            "\tDOWN\n",
            "\t\t1.7835726134662075\n",
            "\tLEFT\n",
            "\t\t1.1600387240264753\n",
            "\tRIGHT\n",
            "\t\t0.13910983312088457\n",
            "(3, 3)\n",
            "\tUP\n",
            "\t\t-1.0549001365723512\n",
            "\tDOWN\n",
            "\t\t-1.1677394077137575\n",
            "\tLEFT\n",
            "\t\t3.5133724650211327\n",
            "\tRIGHT\n",
            "\t\t-1.0889025312240002\n",
            "(3, 4)\n",
            "\tUP\n",
            "\t\t-1.1146994120293268\n",
            "\tDOWN\n",
            "\t\t-1.4495490986574138\n",
            "\tLEFT\n",
            "\t\t-1.2602567237001339\n",
            "\tRIGHT\n",
            "\t\t-1.2996658830000003\n",
            "(4, 0)\n",
            "\tUP\n",
            "\t\t-1.7768519555775764\n",
            "\tDOWN\n",
            "\t\t-0.9512452607182624\n",
            "\tLEFT\n",
            "\t\t-0.9324169115980752\n",
            "\tRIGHT\n",
            "\t\t3.996409307982857\n",
            "(4, 1)\n",
            "\tUP\n",
            "\t\t4.999998341327217\n",
            "\tDOWN\n",
            "\t\t0.6759904746452983\n",
            "\tLEFT\n",
            "\t\t-0.9889116386308617\n",
            "\tRIGHT\n",
            "\t\t-1.5935061758894271\n",
            "(4, 2)\n",
            "\tUP\n",
            "\t\t5.999999999976111\n",
            "\tDOWN\n",
            "\t\t1.423418160471801\n",
            "\tLEFT\n",
            "\t\t-0.14835531899350146\n",
            "\tRIGHT\n",
            "\t\t-0.17412182156366296\n",
            "(4, 3)\n",
            "\tUP\n",
            "\t\t-1.2409493447281648\n",
            "\tDOWN\n",
            "\t\t-0.5366514733482513\n",
            "\tLEFT\n",
            "\t\t4.99999989219007\n",
            "\tRIGHT\n",
            "\t\t-0.3645987854312096\n",
            "(4, 4)\n",
            "\tUP\n",
            "\t\t-1.9565946908837937\n",
            "\tDOWN\n",
            "\t\t-2.0000000000000013\n",
            "\tLEFT\n",
            "\t\t3.999259893681136\n",
            "\tRIGHT\n",
            "\t\t-0.28064666476244465\n"
          ]
        }
      ],
      "source": [
        "def pretty(d, indent=0):\n",
        "    for key, value in d.items():\n",
        "        print('\\t' * indent + str(key))\n",
        "        if isinstance(value, dict):\n",
        "            pretty(value, indent+1)\n",
        "        else:\n",
        "            print('\\t' * (indent+1) + str(value))\n",
        "\n",
        "\n",
        "pretty(agentQ.q_table)"
      ]
    },
    {
      "cell_type": "code",
      "execution_count": null,
      "metadata": {
        "id": "f5nvID-WsbZ8"
      },
      "outputs": [],
      "source": []
    }
  ],
  "metadata": {
    "kernelspec": {
      "display_name": "Python 3",
      "language": "python",
      "name": "python3"
    },
    "language_info": {
      "codemirror_mode": {
        "name": "ipython",
        "version": 3
      },
      "file_extension": ".py",
      "mimetype": "text/x-python",
      "name": "python",
      "nbconvert_exporter": "python",
      "pygments_lexer": "ipython3",
      "version": "3.6.4"
    },
    "colab": {
      "provenance": []
    }
  },
  "nbformat": 4,
  "nbformat_minor": 0
}